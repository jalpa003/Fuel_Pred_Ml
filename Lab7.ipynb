{
 "cells": [
  {
   "cell_type": "markdown",
   "id": "c7fa1b68",
   "metadata": {},
   "source": [
    "## DAB200 -- Lab 7\n",
    "\n",
    "In this lab, you will gain some experience in dealing with missing data and further practice converting non-numeric features in a dataset to numeric.\n",
    "\n",
    "**Target**: to predict `Comb Unadj FE - Conventional Fuel`\n",
    "\n",
    "**Data set**: will be assigned by the instructor in class"
   ]
  },
  {
   "cell_type": "markdown",
   "id": "a9570520",
   "metadata": {},
   "source": [
    "### Part 0\n",
    "\n",
    "Please provide the following information by editing this cell:\n",
    " - Name:  Jalpa Tank\n",
    " - Student Number: 0804303"
   ]
  },
  {
   "cell_type": "markdown",
   "id": "78b40006",
   "metadata": {},
   "source": [
    "### Part 1 - Create and evaluate an initial model\n",
    "\n",
    "In this part you should: \n",
    " \n",
    " - read in the data\n",
    " - isolate all numeric features from original data set\n",
    " - fill in any missing values with 0\n",
    " - create and evaluate an initial model \n",
    " - use 150 decision trees in your random forest model\n",
    "\n",
    "#### Code (10 marks)"
   ]
  },
  {
   "cell_type": "markdown",
   "id": "ec91f948",
   "metadata": {},
   "source": [
    "**Code for reading data:**"
   ]
  },
  {
   "cell_type": "code",
   "execution_count": 1,
   "id": "b0acd877",
   "metadata": {
    "nbgrader": {
     "grade": false,
     "grade_id": "firstThree",
     "locked": false,
     "schema_version": 3,
     "solution": true,
     "task": false
    }
   },
   "outputs": [
    {
     "data": {
      "text/html": [
       "<div>\n",
       "<style scoped>\n",
       "    .dataframe tbody tr th:only-of-type {\n",
       "        vertical-align: middle;\n",
       "    }\n",
       "\n",
       "    .dataframe tbody tr th {\n",
       "        vertical-align: top;\n",
       "    }\n",
       "\n",
       "    .dataframe thead th {\n",
       "        text-align: right;\n",
       "    }\n",
       "</style>\n",
       "<table border=\"1\" class=\"dataframe\">\n",
       "  <thead>\n",
       "    <tr style=\"text-align: right;\">\n",
       "      <th></th>\n",
       "      <th>0</th>\n",
       "      <th>1</th>\n",
       "      <th>2</th>\n",
       "      <th>3</th>\n",
       "      <th>4</th>\n",
       "    </tr>\n",
       "  </thead>\n",
       "  <tbody>\n",
       "    <tr>\n",
       "      <th>Eng Displ</th>\n",
       "      <td>NaN</td>\n",
       "      <td>6.2</td>\n",
       "      <td>2.0</td>\n",
       "      <td>2.0</td>\n",
       "      <td>NaN</td>\n",
       "    </tr>\n",
       "    <tr>\n",
       "      <th># Cyl</th>\n",
       "      <td>6</td>\n",
       "      <td>8</td>\n",
       "      <td>4</td>\n",
       "      <td>4</td>\n",
       "      <td>8</td>\n",
       "    </tr>\n",
       "    <tr>\n",
       "      <th>Comb Unadj FE - Conventional Fuel</th>\n",
       "      <td>26.21</td>\n",
       "      <td>21.8108</td>\n",
       "      <td>35.6914</td>\n",
       "      <td>36.7994</td>\n",
       "      <td>18.9885</td>\n",
       "    </tr>\n",
       "    <tr>\n",
       "      <th># Gears</th>\n",
       "      <td>6</td>\n",
       "      <td>8</td>\n",
       "      <td>8</td>\n",
       "      <td>7</td>\n",
       "      <td>6</td>\n",
       "    </tr>\n",
       "    <tr>\n",
       "      <th>Max Ethanol % - Gasoline</th>\n",
       "      <td>15.0</td>\n",
       "      <td>10.0</td>\n",
       "      <td>10.0</td>\n",
       "      <td>10.0</td>\n",
       "      <td>15.0</td>\n",
       "    </tr>\n",
       "    <tr>\n",
       "      <th>Intake Valves Per Cyl</th>\n",
       "      <td>2</td>\n",
       "      <td>1</td>\n",
       "      <td>2</td>\n",
       "      <td>2</td>\n",
       "      <td>2</td>\n",
       "    </tr>\n",
       "    <tr>\n",
       "      <th>Exhaust Valves Per Cyl</th>\n",
       "      <td>2</td>\n",
       "      <td>1</td>\n",
       "      <td>2</td>\n",
       "      <td>2</td>\n",
       "      <td>2</td>\n",
       "    </tr>\n",
       "    <tr>\n",
       "      <th>Fuel Metering Sys Desc</th>\n",
       "      <td>Multipoint/sequential fuel injection</td>\n",
       "      <td>Spark Ignition Direct Injection</td>\n",
       "      <td>unknown</td>\n",
       "      <td>unknown</td>\n",
       "      <td>Multipoint/sequential fuel injection</td>\n",
       "    </tr>\n",
       "    <tr>\n",
       "      <th>Air Aspiration Method Desc</th>\n",
       "      <td>Naturally Aspirated</td>\n",
       "      <td>Naturally Aspirated</td>\n",
       "      <td>Turbocharged</td>\n",
       "      <td>Turbocharged</td>\n",
       "      <td>Naturally Aspirated</td>\n",
       "    </tr>\n",
       "    <tr>\n",
       "      <th>Trans Desc</th>\n",
       "      <td>XXXXX</td>\n",
       "      <td>XXXXX</td>\n",
       "      <td>Semi-Automatic</td>\n",
       "      <td>Automated Manual</td>\n",
       "      <td>XXXXX</td>\n",
       "    </tr>\n",
       "    <tr>\n",
       "      <th>Cyl Deact?</th>\n",
       "      <td>N</td>\n",
       "      <td></td>\n",
       "      <td>N</td>\n",
       "      <td>N</td>\n",
       "      <td>N</td>\n",
       "    </tr>\n",
       "    <tr>\n",
       "      <th>Var Valve Lift?</th>\n",
       "      <td>N</td>\n",
       "      <td>N</td>\n",
       "      <td>Y</td>\n",
       "      <td>N</td>\n",
       "      <td>N</td>\n",
       "    </tr>\n",
       "  </tbody>\n",
       "</table>\n",
       "</div>"
      ],
      "text/plain": [
       "                                                                      0  \\\n",
       "Eng Displ                                                           NaN   \n",
       "# Cyl                                                                 6   \n",
       "Comb Unadj FE - Conventional Fuel                                 26.21   \n",
       "# Gears                                                               6   \n",
       "Max Ethanol % - Gasoline                                           15.0   \n",
       "Intake Valves Per Cyl                                                 2   \n",
       "Exhaust Valves Per Cyl                                                2   \n",
       "Fuel Metering Sys Desc             Multipoint/sequential fuel injection   \n",
       "Air Aspiration Method Desc                          Naturally Aspirated   \n",
       "Trans Desc                                                        XXXXX   \n",
       "Cyl Deact?                                                            N   \n",
       "Var Valve Lift?                                                       N   \n",
       "\n",
       "                                                                 1  \\\n",
       "Eng Displ                                                      6.2   \n",
       "# Cyl                                                            8   \n",
       "Comb Unadj FE - Conventional Fuel                          21.8108   \n",
       "# Gears                                                          8   \n",
       "Max Ethanol % - Gasoline                                      10.0   \n",
       "Intake Valves Per Cyl                                            1   \n",
       "Exhaust Valves Per Cyl                                           1   \n",
       "Fuel Metering Sys Desc             Spark Ignition Direct Injection   \n",
       "Air Aspiration Method Desc                     Naturally Aspirated   \n",
       "Trans Desc                                                   XXXXX   \n",
       "Cyl Deact?                                                           \n",
       "Var Valve Lift?                                                  N   \n",
       "\n",
       "                                                2                 3  \\\n",
       "Eng Displ                                     2.0               2.0   \n",
       "# Cyl                                           4                 4   \n",
       "Comb Unadj FE - Conventional Fuel         35.6914           36.7994   \n",
       "# Gears                                         8                 7   \n",
       "Max Ethanol % - Gasoline                     10.0              10.0   \n",
       "Intake Valves Per Cyl                           2                 2   \n",
       "Exhaust Valves Per Cyl                          2                 2   \n",
       "Fuel Metering Sys Desc                    unknown           unknown   \n",
       "Air Aspiration Method Desc           Turbocharged      Turbocharged   \n",
       "Trans Desc                         Semi-Automatic  Automated Manual   \n",
       "Cyl Deact?                                      N                 N   \n",
       "Var Valve Lift?                                 Y                 N   \n",
       "\n",
       "                                                                      4  \n",
       "Eng Displ                                                           NaN  \n",
       "# Cyl                                                                 8  \n",
       "Comb Unadj FE - Conventional Fuel                               18.9885  \n",
       "# Gears                                                               6  \n",
       "Max Ethanol % - Gasoline                                           15.0  \n",
       "Intake Valves Per Cyl                                                 2  \n",
       "Exhaust Valves Per Cyl                                                2  \n",
       "Fuel Metering Sys Desc             Multipoint/sequential fuel injection  \n",
       "Air Aspiration Method Desc                          Naturally Aspirated  \n",
       "Trans Desc                                                        XXXXX  \n",
       "Cyl Deact?                                                            N  \n",
       "Var Valve Lift?                                                       N  "
      ]
     },
     "execution_count": 1,
     "metadata": {},
     "output_type": "execute_result"
    }
   ],
   "source": [
    "import pandas as pd\n",
    "import numpy as np\n",
    "from sklearn.ensemble import RandomForestRegressor\n",
    "from rfpimp import * \n",
    "from pandas.api.types import is_categorical_dtype\n",
    "\n",
    "data_string = 'veh18_missing.csv'\n",
    "df = pd.read_csv('veh18_missing.csv')\n",
    "df.head().T"
   ]
  },
  {
   "cell_type": "markdown",
   "id": "a865892b",
   "metadata": {},
   "source": [
    "**Code for exploring data:**"
   ]
  },
  {
   "cell_type": "code",
   "execution_count": 2,
   "id": "2b06d258",
   "metadata": {
    "nbgrader": {
     "grade": false,
     "grade_id": "cell-0c9ed26858180220",
     "locked": false,
     "schema_version": 3,
     "solution": true,
     "task": false
    },
    "scrolled": false
   },
   "outputs": [
    {
     "data": {
      "text/plain": [
       "Eng Displ                            0\n",
       "# Cyl                                0\n",
       "# Gears                              0\n",
       "Max Ethanol % - Gasoline             0\n",
       "Intake Valves Per Cyl                0\n",
       "Exhaust Valves Per Cyl               0\n",
       "Comb Unadj FE - Conventional Fuel    0\n",
       "dtype: int64"
      ]
     },
     "execution_count": 2,
     "metadata": {},
     "output_type": "execute_result"
    }
   ],
   "source": [
    "numfeatures = df[['Eng Displ','# Cyl','# Gears','Max Ethanol % - Gasoline','Intake Valves Per Cyl','Exhaust Valves Per Cyl','Comb Unadj FE - Conventional Fuel']]\n",
    "numfeatures.isnull().sum()\n",
    "numfeatures = numfeatures.fillna(0)\n",
    "numfeatures.isnull().sum()"
   ]
  },
  {
   "cell_type": "markdown",
   "id": "efd79b45",
   "metadata": {},
   "source": [
    "#### Create and evaluate an initial model after isolating numeric features:\n",
    "Put all your code inside the following function definition.  \n",
    "\n",
    "Your solution must return:\n",
    "\n",
    "- **first item:** Mean OOB score of 10 runs\n",
    "- **second item:** The last (i.e., the 10th) random forest regressor object (fitted)\n",
    "- **third item:** Feature array\n",
    "- **fourth item:** Target array"
   ]
  },
  {
   "cell_type": "code",
   "execution_count": 3,
   "id": "746ab0a6",
   "metadata": {},
   "outputs": [],
   "source": [
    "def estimate_mean_oob_score_baseline():\n",
    "    ### BEGIN SOLUTION\n",
    "    numfeatures = df[['Eng Displ','# Cyl','# Gears','Max Ethanol % - Gasoline','Intake Valves Per Cyl','Exhaust Valves Per Cyl','Comb Unadj FE - Conventional Fuel']]\n",
    "    numfeatures = numfeatures.fillna(0)\n",
    "    X = numfeatures.drop('Comb Unadj FE - Conventional Fuel',axis=1)\n",
    "    y = df['Comb Unadj FE - Conventional Fuel']\n",
    "    \n",
    "    oob_scores = []\n",
    "    \n",
    "    for i in range(10):\n",
    "        rf = RandomForestRegressor(n_estimators=150, n_jobs=-1, oob_score=True)\n",
    "        rf.fit(X, y)\n",
    "        oob_scores.append(rf.oob_score_)\n",
    "    return np.mean(oob_scores),rf,X,y\n",
    "    ### END SOLUTION"
   ]
  },
  {
   "cell_type": "markdown",
   "id": "cc693317",
   "metadata": {},
   "source": [
    "**Running the following cell should not throw any error if your code in the cell above is correct.  Do not edit the following cell.**"
   ]
  },
  {
   "cell_type": "code",
   "execution_count": 4,
   "id": "978e6a71",
   "metadata": {
    "nbgrader": {
     "grade": false,
     "grade_id": "cell-728aa3e3806cab0b",
     "locked": false,
     "schema_version": 3,
     "solution": true,
     "task": false
    }
   },
   "outputs": [
    {
     "name": "stdout",
     "output_type": "stream",
     "text": [
      "0.6726395284335707 150\n"
     ]
    }
   ],
   "source": [
    "baseline_oob_score, rf, X, y = estimate_mean_oob_score_baseline()\n",
    "\n",
    "num_trees = len(rf.estimators_)\n",
    "\n",
    "print(baseline_oob_score, num_trees)\n",
    "\n",
    "if data_string == 'veh14_missing.csv':\n",
    "    output = 0.696\n",
    "elif  data_string == 'veh15_missing.csv':\n",
    "    output = 0.730\n",
    "elif  data_string == 'veh16_missing.csv':\n",
    "    output = 0.738\n",
    "elif  data_string == 'veh17_missing.csv':\n",
    "    output = 0.721\n",
    "elif  data_string == 'veh18_missing.csv':\n",
    "    output = 0.673\n",
    "elif  data_string == 'veh19_missing.csv':\n",
    "    output = 0.704\n",
    "    \n",
    "\n",
    "if (np.isclose(baseline_oob_score , output, rtol = 0.01) == True) and (num_trees==150):\n",
    "    part1_marks = 10\n",
    "    \n",
    "assert np.isclose(baseline_oob_score , output, rtol = 0.01)"
   ]
  },
  {
   "cell_type": "code",
   "execution_count": 5,
   "id": "3d558d81",
   "metadata": {},
   "outputs": [],
   "source": [
    "import pickle\n",
    "pickle_out = open(\"rf.pkl\",\"wb\")\n",
    "pickle.dump(rf,pickle_out)\n",
    "pickle_out.close()"
   ]
  },
  {
   "cell_type": "markdown",
   "id": "88caf31b",
   "metadata": {},
   "source": [
    "### Part 2 - Normalize missing values for string data\n",
    "\n",
    "In this part you should: \n",
    " - use Section 7.4 of the textbook as a guide\n",
    " - convert **all** representations of missing data to a **single** representation\n",
    " \n",
    "#### Code (15 marks)"
   ]
  },
  {
   "cell_type": "markdown",
   "id": "78e6b89e",
   "metadata": {},
   "source": [
    "**Code for exploring missing values:**"
   ]
  },
  {
   "cell_type": "code",
   "execution_count": 9,
   "id": "7cc79f08",
   "metadata": {
    "nbgrader": {
     "grade": false,
     "grade_id": "cell-6cd32b3dc32594ea",
     "locked": false,
     "schema_version": 3,
     "solution": true,
     "task": false
    },
    "scrolled": true
   },
   "outputs": [
    {
     "data": {
      "text/plain": [
       "array(['N', '   ', nan, 'Y'], dtype=object)"
      ]
     },
     "execution_count": 9,
     "metadata": {},
     "output_type": "execute_result"
    }
   ],
   "source": [
    "df.head().T\n",
    "df['Eng Displ'].unique()\n",
    "df['Max Ethanol % - Gasoline'].unique()\n",
    "df['Fuel Metering Sys Desc'].unique()\n",
    "df['Trans Desc'].unique()\n",
    "df['Cyl Deact?'].unique()\n",
    "# df['# Cyl'].unique()\n",
    "# df['# Gears'].unique()\n",
    "# df['Intake Valves Per Cyl'].unique()\n",
    "# df['Exhaust Valves Per Cyl'].unique()\n",
    "# df['Air Aspiration Method Desc'].unique()\n",
    "# df['Var Valve Lift?'].unique()"
   ]
  },
  {
   "cell_type": "markdown",
   "id": "f3895408",
   "metadata": {},
   "source": [
    "**Code for normalizing missing values:**\n",
    "\n",
    "Put all your code inside the following function definition. "
   ]
  },
  {
   "cell_type": "code",
   "execution_count": 14,
   "id": "bebcd25d",
   "metadata": {
    "nbgrader": {
     "grade": false,
     "grade_id": "cell-053244bf6c663097",
     "locked": false,
     "schema_version": 3,
     "solution": true,
     "task": false
    }
   },
   "outputs": [],
   "source": [
    "from pandas.api.types import is_string_dtype, is_object_dtype\n",
    "\n",
    "def normalize_missing_values():\n",
    "    ### BEGIN SOLUTION\n",
    "     for col in df.columns:\n",
    "            if is_string_dtype(df[col]) or is_object_dtype(df[col]):\n",
    "                df[col] = df[col].str.lower()\n",
    "                df[col] = df[col].fillna(np.nan) # make None -> np.nan\n",
    "                df[col] = df[col].replace('   ',np.nan)\n",
    "                df[col] = df[col].replace('unknown', np.nan)\n",
    "                df[col] = df[col].replace('none', np.nan)\n",
    "                df[col] = df[col].replace('xxxxx',np.nan)\n",
    "                df[col] = df[col].replace('', np.nan)\n",
    "            return df\n",
    "    \n",
    "    ### END SOLUTION"
   ]
  },
  {
   "cell_type": "code",
   "execution_count": 16,
   "id": "ba846dec",
   "metadata": {},
   "outputs": [
    {
     "data": {
      "text/plain": [
       "array(['n', nan, 'y'], dtype=object)"
      ]
     },
     "execution_count": 16,
     "metadata": {},
     "output_type": "execute_result"
    }
   ],
   "source": [
    "df['Eng Displ'].unique()\n",
    "df['Max Ethanol % - Gasoline'].unique()\n",
    "df['Fuel Metering Sys Desc'].unique()\n",
    "df['Trans Desc'].unique()\n",
    "df['Cyl Deact?'].unique()"
   ]
  },
  {
   "cell_type": "markdown",
   "id": "97ab2547",
   "metadata": {},
   "source": [
    "**Running the following cell should not throw any error if your code in the cell above is correct.  Do not edit the following cell.**"
   ]
  },
  {
   "cell_type": "code",
   "execution_count": 17,
   "id": "92f2df9e",
   "metadata": {},
   "outputs": [
    {
     "name": "stdout",
     "output_type": "stream",
     "text": [
      "   Eng Displ  # Cyl  Comb Unadj FE - Conventional Fuel  # Gears  \\\n",
      "0        NaN      6                            26.2100        6   \n",
      "1        6.2      8                            21.8108        8   \n",
      "2        2.0      4                            35.6914        8   \n",
      "3        2.0      4                            36.7994        7   \n",
      "4        NaN      8                            18.9885        6   \n",
      "\n",
      "   Max Ethanol % - Gasoline  Intake Valves Per Cyl  Exhaust Valves Per Cyl  \\\n",
      "0                      15.0                      2                       2   \n",
      "1                      10.0                      1                       1   \n",
      "2                      10.0                      2                       2   \n",
      "3                      10.0                      2                       2   \n",
      "4                      15.0                      2                       2   \n",
      "\n",
      "                 Fuel Metering Sys Desc Air Aspiration Method Desc  \\\n",
      "0  multipoint/sequential fuel injection        naturally aspirated   \n",
      "1       spark ignition direct injection        naturally aspirated   \n",
      "2                                   NaN               turbocharged   \n",
      "3                                   NaN               turbocharged   \n",
      "4  multipoint/sequential fuel injection        naturally aspirated   \n",
      "\n",
      "         Trans Desc Cyl Deact? Var Valve Lift?  \n",
      "0               NaN          n               n  \n",
      "1               NaN        NaN               n  \n",
      "2    semi-automatic          n               y  \n",
      "3  automated manual          n               n  \n",
      "4               NaN          n               n  \n"
     ]
    }
   ],
   "source": [
    "df = normalize_missing_values()\n",
    "\n",
    "print(df.head())\n",
    "\n",
    "vissing_mals = ['not provided', '##-##', '   ', 'none', 'not filled in', '^^', 'unknown', 'XXXXX', \n",
    "                'not specified', '*****', '@@@@@', 'none given', '%%%%%', 'missing', 'mod']\n",
    "\n",
    "col_missing = []\n",
    "\n",
    "for col in df.columns:\n",
    "    col_missing.append(all(df[col].isin(vissing_mals)))\n",
    "    \n",
    "if sum(col_missing) == 0:\n",
    "    part2_marks = 15\n",
    "else:\n",
    "    part2_marks = 0\n",
    "    \n",
    "assert sum(col_missing) == 0"
   ]
  },
  {
   "cell_type": "markdown",
   "id": "4b54b40d",
   "metadata": {},
   "source": [
    "### Part 3 - Encoding Categorical features\n",
    "\n",
    "In this part you should: \n",
    " - use Section 7.5.1 as a guide\n",
    " - only use label encoding \n",
    " - convert **all** non-numeric features to numeric \n",
    " - handle any missing values\n",
    " \n",
    "#### Code (25 marks)"
   ]
  },
  {
   "cell_type": "markdown",
   "id": "e7f9177d",
   "metadata": {},
   "source": [
    "**Provide your code to convert all non-numeric features to numeric using label encoding. Use only `pandas` for encoding (don't use `category encoders`). Make sure that missing values are encoded as zero. All your code must be inside the function below**"
   ]
  },
  {
   "cell_type": "code",
   "execution_count": 18,
   "id": "ef0b7e48",
   "metadata": {
    "nbgrader": {
     "grade": false,
     "grade_id": "cell-b32cb19cd8e0e6fc",
     "locked": false,
     "schema_version": 3,
     "solution": true,
     "task": false
    }
   },
   "outputs": [],
   "source": [
    "def label_encoding_non_numeric_cols():\n",
    "    ### BEGIN SOLUTION\n",
    "        for col in df.columns:\n",
    "            if is_string_dtype(df[col]):\n",
    "                df[col] = df[col].astype('category').cat.as_ordered()\n",
    "            if is_categorical_dtype(df[col]):\n",
    "                df[col] = df[col].cat.codes + 1\n",
    "        return df\n",
    "    \n",
    "    ### END SOLUTION"
   ]
  },
  {
   "cell_type": "markdown",
   "id": "82efb2eb",
   "metadata": {},
   "source": [
    "**Running the following cell should not throw any error if your code in the cell above is correct.  Do not edit the following cell.**"
   ]
  },
  {
   "cell_type": "code",
   "execution_count": 19,
   "id": "c9a684fe",
   "metadata": {},
   "outputs": [
    {
     "name": "stdout",
     "output_type": "stream",
     "text": [
      "   Eng Displ  # Cyl  Comb Unadj FE - Conventional Fuel  # Gears  \\\n",
      "0        NaN      6                            26.2100        6   \n",
      "1        6.2      8                            21.8108        8   \n",
      "2        2.0      4                            35.6914        8   \n",
      "3        2.0      4                            36.7994        7   \n",
      "4        NaN      8                            18.9885        6   \n",
      "\n",
      "   Max Ethanol % - Gasoline  Intake Valves Per Cyl  Exhaust Valves Per Cyl  \\\n",
      "0                      15.0                      2                       2   \n",
      "1                      10.0                      1                       1   \n",
      "2                      10.0                      2                       2   \n",
      "3                      10.0                      2                       2   \n",
      "4                      15.0                      2                       2   \n",
      "\n",
      "   Fuel Metering Sys Desc  Air Aspiration Method Desc  Trans Desc  Cyl Deact?  \\\n",
      "0                       2                           1           0           1   \n",
      "1                       4                           1           0           0   \n",
      "2                       0                           3           7           1   \n",
      "3                       0                           3           1           1   \n",
      "4                       2                           1           0           1   \n",
      "\n",
      "   Var Valve Lift?  \n",
      "0                1  \n",
      "1                1  \n",
      "2                2  \n",
      "3                1  \n",
      "4                1  \n"
     ]
    }
   ],
   "source": [
    "df = label_encoding_non_numeric_cols()\n",
    "\n",
    "print(df.head())\n",
    "\n",
    "from pandas.api.types import is_numeric_dtype\n",
    "\n",
    "cols_are_numeric = []\n",
    "for col in df.columns:\n",
    "    if col != 'Comb Unadj FE - Conventional Fuel':\n",
    "        cols_are_numeric.append(is_numeric_dtype(df[col]))\n",
    "    \n",
    "    \n",
    "if (df.shape[1]) - 1 == sum(cols_are_numeric):\n",
    "    part3_marks = 25\n",
    "else:\n",
    "    part3_marks = 0\n",
    "    \n",
    "assert (df.shape[1]) - 1 == sum(cols_are_numeric)"
   ]
  },
  {
   "cell_type": "markdown",
   "id": "bef3b3a5",
   "metadata": {},
   "source": [
    "### Part 4 - Numeric features\n",
    "\n",
    "In this part you should: \n",
    " - use Section 7.5.2 as a guide\n",
    " - handle any missing values\n",
    " \n",
    "#### Code (30 marks)\n",
    "\n",
    "Return only the dataframe"
   ]
  },
  {
   "cell_type": "code",
   "execution_count": 21,
   "id": "928f897b",
   "metadata": {
    "scrolled": true
   },
   "outputs": [
    {
     "data": {
      "text/plain": [
       "array([15., 10., nan, 85.])"
      ]
     },
     "execution_count": 21,
     "metadata": {},
     "output_type": "execute_result"
    }
   ],
   "source": [
    "df['Eng Displ'].unique()\n",
    "df['Max Ethanol % - Gasoline'].unique()"
   ]
  },
  {
   "cell_type": "code",
   "execution_count": 22,
   "id": "669718ec",
   "metadata": {
    "nbgrader": {
     "grade": false,
     "grade_id": "cell-27ce6450652f288c",
     "locked": false,
     "schema_version": 3,
     "solution": true,
     "task": false
    }
   },
   "outputs": [],
   "source": [
    "def fill_missing_vals_num():\n",
    "    ### BEGIN SOLUTION\n",
    "    df['Eng Displ'+'_na'] = pd.isnull(df['Eng Displ'])\n",
    "    df['Eng Displ'].fillna(df['Eng Displ'].median(), inplace=True)\n",
    "    \n",
    "    df['Max Ethanol % - Gasoline'+'_na'] = pd.isnull(df['Max Ethanol % - Gasoline'])\n",
    "    df['Max Ethanol % - Gasoline'].fillna(df['Max Ethanol % - Gasoline'].median(), inplace=True)\n",
    "    return df\n",
    "    ### END SOLUTION"
   ]
  },
  {
   "cell_type": "code",
   "execution_count": 25,
   "id": "38f18d88",
   "metadata": {},
   "outputs": [
    {
     "data": {
      "text/plain": [
       "array([15., 10., 85.])"
      ]
     },
     "execution_count": 25,
     "metadata": {},
     "output_type": "execute_result"
    }
   ],
   "source": [
    "df['Eng Displ'].unique()\n",
    "df['Max Ethanol % - Gasoline'].unique()"
   ]
  },
  {
   "cell_type": "markdown",
   "id": "6ad9b38b",
   "metadata": {},
   "source": [
    "**Running the following cell should not throw any error if your code in the cell above is correct. Do not edit the following cell.**"
   ]
  },
  {
   "cell_type": "code",
   "execution_count": 26,
   "id": "2907dd1b",
   "metadata": {},
   "outputs": [],
   "source": [
    "df = fill_missing_vals_num()\n",
    "\n",
    "cols_not_null = []\n",
    "for col in df.columns:\n",
    "    cols_not_null.append(sum(pd.isnull(df[col])))\n",
    "    \n",
    "if all(cols_not_null) == 0:\n",
    "    part4_marks = 30\n",
    "else:\n",
    "    part4_marks = 0\n",
    "    \n",
    "assert all(cols_not_null) == 0"
   ]
  },
  {
   "cell_type": "markdown",
   "id": "fd215856",
   "metadata": {},
   "source": [
    "### Part 5 - Create and evaluate a final model\n",
    "\n",
    "In this part you should:\n",
    " - create and evaluate a model using all the features after processing them in Parts 2, 3, and 4 above \n",
    " - use 150 decision trees\n",
    " \n",
    "\n",
    "The following function must return:\n",
    "- **first item:** Mean OOB score of 10 runs\n",
    "- **second item:** The last (i.e., the 10th) random forest regressor object (fitted)\n",
    "- **third item:** Feature array\n",
    "- **fourth item:** Target array\n",
    "\n",
    "#### Code (10 marks)"
   ]
  },
  {
   "cell_type": "code",
   "execution_count": 27,
   "id": "eb91f58b",
   "metadata": {
    "nbgrader": {
     "grade": false,
     "grade_id": "cell-635003fba7148607",
     "locked": false,
     "schema_version": 3,
     "solution": true,
     "task": false
    }
   },
   "outputs": [],
   "source": [
    "def estimate_mean_oob_score_final():\n",
    "    ### BEGIN SOLUTION\n",
    "    for col in df.columns:\n",
    "        if is_string_dtype(df[col]) or is_object_dtype(df[col]):\n",
    "            df[col] = df[col].str.lower()\n",
    "            df[col] = df[col].fillna(np.nan) # make None -> np.nan\n",
    "            df[col] = df[col].replace('   ',np.nan)\n",
    "            df[col] = df[col].replace('unknown', np.nan)\n",
    "            df[col] = df[col].replace('none', np.nan)\n",
    "            df[col] = df[col].replace('xxxxx',np.nan)\n",
    "            df[col] = df[col].replace('', np.nan)\n",
    "        \n",
    "        if is_string_dtype(df[col]):\n",
    "                df[col] = df[col].astype('category').cat.as_ordered()\n",
    "        if is_categorical_dtype(df[col]):\n",
    "                df[col] = df[col].cat.codes + 1\n",
    "\n",
    "        df['Eng Displ'+'_na'] = pd.isnull(df['Eng Displ'])\n",
    "        df['Eng Displ'].fillna(df['Eng Displ'].median(), inplace=True)\n",
    "    \n",
    "        df['Max Ethanol % - Gasoline'+'_na'] = pd.isnull(df['Max Ethanol % - Gasoline'])\n",
    "        df['Max Ethanol % - Gasoline'].fillna(df['Max Ethanol % - Gasoline'].median(), inplace=True)\n",
    "\n",
    "\n",
    "    X = df.drop('Comb Unadj FE - Conventional Fuel',axis=1)\n",
    "    y = df['Comb Unadj FE - Conventional Fuel']\n",
    "    \n",
    "    oob_scores = []\n",
    "    \n",
    "    for i in range(10):\n",
    "        rf = RandomForestRegressor(n_estimators=150, n_jobs=-1, oob_score=True)\n",
    "        rf.fit(X, y)\n",
    "        oob_scores.append(rf.oob_score_)\n",
    "    return np.mean(oob_scores),rf,X,y\n",
    "    \n",
    "    ### END SOLUTION"
   ]
  },
  {
   "cell_type": "markdown",
   "id": "79ec53a5",
   "metadata": {},
   "source": [
    "**Running the following cell should not throw any error if your code in the cell above is correct. Do not edit the following cell.**"
   ]
  },
  {
   "cell_type": "code",
   "execution_count": 28,
   "id": "e5e33038",
   "metadata": {},
   "outputs": [
    {
     "name": "stdout",
     "output_type": "stream",
     "text": [
      "0.7825112921401013 150\n"
     ]
    }
   ],
   "source": [
    "final_oob_score, rf, X, y = estimate_mean_oob_score_final()\n",
    "\n",
    "num_trees = len(rf.estimators_)\n",
    "\n",
    "print(final_oob_score, num_trees)\n",
    "\n",
    "if final_oob_score > baseline_oob_score:\n",
    "    part5_marks = 10\n",
    "else:\n",
    "    part5_marks = 0\n",
    "    \n",
    "assert final_oob_score > baseline_oob_score"
   ]
  },
  {
   "cell_type": "code",
   "execution_count": 29,
   "id": "372af3a8",
   "metadata": {},
   "outputs": [
    {
     "data": {
      "text/plain": [
       "90"
      ]
     },
     "execution_count": 29,
     "metadata": {},
     "output_type": "execute_result"
    }
   ],
   "source": [
    "parts_1_to_5_marks = part1_marks + part2_marks + part3_marks + part4_marks + part5_marks\n",
    "parts_1_to_5_marks"
   ]
  }
 ],
 "metadata": {
  "celltoolbar": "Create Assignment",
  "kernelspec": {
   "display_name": "Python 3 (ipykernel)",
   "language": "python",
   "name": "python3"
  },
  "language_info": {
   "codemirror_mode": {
    "name": "ipython",
    "version": 3
   },
   "file_extension": ".py",
   "mimetype": "text/x-python",
   "name": "python",
   "nbconvert_exporter": "python",
   "pygments_lexer": "ipython3",
   "version": "3.9.15"
  }
 },
 "nbformat": 4,
 "nbformat_minor": 5
}
